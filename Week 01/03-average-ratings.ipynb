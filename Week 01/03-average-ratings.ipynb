{
 "cells": [
  {
   "attachments": {},
   "cell_type": "markdown",
   "metadata": {},
   "source": [
    "# 📚 Recommendations based on average ratings\n",
    "You will create your first recommendations using average ratings. This method highlights books with high reader ratings, combining popularity with quality. You'll calculate each book's average rating and choose the top-rated ones for your recommendations."
   ]
  },
  {
   "cell_type": "markdown",
   "metadata": {},
   "source": [
    "### 1. Calculate the average ratings\n",
    "Calculate the average ratings and the number of reviews (count) for the books in your new dataset(s). "
   ]
  },
  {
   "cell_type": "code",
   "execution_count": 1,
   "metadata": {},
   "outputs": [
    {
     "name": "stdout",
     "output_type": "stream",
     "text": [
      "(56851, 4)\n",
      "(2177, 2)\n",
      "(2177, 2)\n"
     ]
    },
    {
     "data": {
      "text/html": [
       "<div>\n",
       "<style scoped>\n",
       "    .dataframe tbody tr th:only-of-type {\n",
       "        vertical-align: middle;\n",
       "    }\n",
       "\n",
       "    .dataframe tbody tr th {\n",
       "        vertical-align: top;\n",
       "    }\n",
       "\n",
       "    .dataframe thead th {\n",
       "        text-align: right;\n",
       "    }\n",
       "</style>\n",
       "<table border=\"1\" class=\"dataframe\">\n",
       "  <thead>\n",
       "    <tr style=\"text-align: right;\">\n",
       "      <th></th>\n",
       "      <th>ISBN</th>\n",
       "      <th>mean</th>\n",
       "    </tr>\n",
       "  </thead>\n",
       "  <tbody>\n",
       "    <tr>\n",
       "      <th>0</th>\n",
       "      <td>000649840X</td>\n",
       "      <td>7.214286</td>\n",
       "    </tr>\n",
       "    <tr>\n",
       "      <th>1</th>\n",
       "      <td>0007110928</td>\n",
       "      <td>7.857143</td>\n",
       "    </tr>\n",
       "    <tr>\n",
       "      <th>2</th>\n",
       "      <td>0020199600</td>\n",
       "      <td>8.062500</td>\n",
       "    </tr>\n",
       "    <tr>\n",
       "      <th>3</th>\n",
       "      <td>0020442203</td>\n",
       "      <td>8.875000</td>\n",
       "    </tr>\n",
       "    <tr>\n",
       "      <th>4</th>\n",
       "      <td>002542730X</td>\n",
       "      <td>7.553191</td>\n",
       "    </tr>\n",
       "    <tr>\n",
       "      <th>...</th>\n",
       "      <td>...</td>\n",
       "      <td>...</td>\n",
       "    </tr>\n",
       "    <tr>\n",
       "      <th>2172</th>\n",
       "      <td>8445071416</td>\n",
       "      <td>8.500000</td>\n",
       "    </tr>\n",
       "    <tr>\n",
       "      <th>2173</th>\n",
       "      <td>8495618605</td>\n",
       "      <td>3.000000</td>\n",
       "    </tr>\n",
       "    <tr>\n",
       "      <th>2174</th>\n",
       "      <td>8806142100</td>\n",
       "      <td>8.000000</td>\n",
       "    </tr>\n",
       "    <tr>\n",
       "      <th>2175</th>\n",
       "      <td>8807813025</td>\n",
       "      <td>9.000000</td>\n",
       "    </tr>\n",
       "    <tr>\n",
       "      <th>2176</th>\n",
       "      <td>8873122933</td>\n",
       "      <td>7.000000</td>\n",
       "    </tr>\n",
       "  </tbody>\n",
       "</table>\n",
       "<p>2177 rows × 2 columns</p>\n",
       "</div>"
      ],
      "text/plain": [
       "            ISBN      mean\n",
       "0     000649840X  7.214286\n",
       "1     0007110928  7.857143\n",
       "2     0020199600  8.062500\n",
       "3     0020442203  8.875000\n",
       "4     002542730X  7.553191\n",
       "...          ...       ...\n",
       "2172  8445071416  8.500000\n",
       "2173  8495618605  3.000000\n",
       "2174  8806142100  8.000000\n",
       "2175  8807813025  9.000000\n",
       "2176  8873122933  7.000000\n",
       "\n",
       "[2177 rows x 2 columns]"
      ]
     },
     "execution_count": 1,
     "metadata": {},
     "output_type": "execute_result"
    }
   ],
   "source": [
    "import pandas as pd\n",
    "ratings = pd.read_csv('data/subset_ratings.csv', delimiter=';')\n",
    "\n",
    "print(ratings.shape)\n",
    "\n",
    "mean_ratings = ratings.groupby(['ISBN'])['Book-Rating'].mean().reset_index()\n",
    "mean_ratings = mean_ratings.rename(columns={'Book-Rating':'mean'})\n",
    "print(mean_ratings.shape)\n",
    "\n",
    "# I don't get why you need to calculate the number of reviews, cause you give a recommendation based on rating not on # reviews.\n",
    "n_ratings_per_book = ratings['ISBN'].value_counts().sort_values(ascending=False)\n",
    "n_ratings_per_book = n_ratings_per_book.reset_index()\n",
    "print(n_ratings_per_book.shape)\n",
    "\n",
    "mean_ratings"
   ]
  },
  {
   "cell_type": "markdown",
   "metadata": {},
   "source": [
    "### 2. Save the recommendations\n",
    "Choose the top 10 based on ratings and save them as `recommendations-ratings-avg.csv`, replacing the existing file in the app directory. Ensure the file includes the columns: `ISBN;mean`. After you have saved it you can refresh Streamlit to see the results"
   ]
  },
  {
   "cell_type": "code",
   "execution_count": 2,
   "metadata": {},
   "outputs": [],
   "source": [
    "top10_mean_ratings = mean_ratings.sort_values(by='mean', ascending=False)[:10]\n",
    "top10_mean_ratings.to_csv('data/recommendations-ratings-avg.csv', sep=';')"
   ]
  },
  {
   "attachments": {},
   "cell_type": "markdown",
   "metadata": {},
   "source": [
    "### 3. Reflect on the recommendations\n",
    "Examine the average rating and number of reviews for the top 10 books. Reflect on why solely using average ratings isn't the best method for recommendations. "
   ]
  }
 ],
 "metadata": {
  "interpreter": {
   "hash": "37c10f95d263926787ebf1d430d11186fc6b9bac835b8518e0b5006ed24f0c36"
  },
  "kernelspec": {
   "display_name": "Python 3.8.0 64-bit",
   "language": "python",
   "name": "python3"
  },
  "language_info": {
   "codemirror_mode": {
    "name": "ipython",
    "version": 3
   },
   "file_extension": ".py",
   "mimetype": "text/x-python",
   "name": "python",
   "nbconvert_exporter": "python",
   "pygments_lexer": "ipython3",
   "version": "3.11.5"
  },
  "orig_nbformat": 4
 },
 "nbformat": 4,
 "nbformat_minor": 2
}
