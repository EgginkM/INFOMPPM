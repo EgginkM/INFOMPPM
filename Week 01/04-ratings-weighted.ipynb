{
 "cells": [
  {
   "attachments": {},
   "cell_type": "markdown",
   "metadata": {},
   "source": [
    "# 📚 Recommendations based on weighted ratings\n",
    "Considering the drawbacks of using average ratings, you will now develop recommendations based on the weighted average for each book. Refer to the article [Building a Recommendation System using weighted-average score](https://medium.com/@developeraritro/building-a-recommendation-system-using-weighted-hybrid-technique-75598b6be8ed) to understand and apply this concept.\n"
   ]
  },
  {
   "cell_type": "markdown",
   "metadata": {},
   "source": [
    "### 1. Calculate Weightage Average for Individual books average rating\n",
    "Determine the mean vote value (C) for the entire dataset.\n"
   ]
  },
  {
   "cell_type": "code",
   "execution_count": 2,
   "metadata": {},
   "outputs": [
    {
     "name": "stdout",
     "output_type": "stream",
     "text": [
      "(2177, 3)\n",
      "(22, 3)\n"
     ]
    }
   ],
   "source": [
    "import pandas as pd\n",
    "df = pd.read_csv('data/subset_ratings.csv', delimiter=';')\n",
    "df = df.groupby(['ISBN'])['Book-Rating'].agg(['mean', 'count']).reset_index()\n",
    "print(df.shape)\n",
    "\n",
    "C = df['mean'].mean()\n",
    "m = df['count'].quantile(0.99)\n",
    "df = df.loc[df['count']>= m]\n",
    "print(df.shape)\n",
    "\n",
    "def weighted_rating(x, m=m, C=C):\n",
    "    V = x['count']\n",
    "    R = x['mean']\n",
    "    return (V/(V+m)*R)+(m/(m+V)*C)\n",
    "\n",
    "df['weight'] = df.apply(weighted_rating, axis=1)\n",
    "\n",
    "df = df.sort_values('weight', ascending=False).head(10)"
   ]
  },
  {
   "cell_type": "markdown",
   "metadata": {},
   "source": [
    "### 2. Save the recommendations\n",
    "Choose the top 10 books based on their weighted ratings and save these recommendations as `recommendations-ratings-weight.csv`. Then, update the app directory by replacing the existing file. Ensure the file includes the columns: `ISBN;weight`."
   ]
  },
  {
   "cell_type": "code",
   "execution_count": 3,
   "metadata": {},
   "outputs": [],
   "source": [
    "df = df[['ISBN', 'weight']]\n",
    "df.to_csv('data/recommendations-ratings-weight.csv', sep=';')"
   ]
  },
  {
   "cell_type": "markdown",
   "metadata": {},
   "source": [
    "### 3. Compare recommendations based on average rating and weighted ratings\n",
    "Review the interface to note any significant differences with this method."
   ]
  }
 ],
 "metadata": {
  "interpreter": {
   "hash": "37c10f95d263926787ebf1d430d11186fc6b9bac835b8518e0b5006ed24f0c36"
  },
  "kernelspec": {
   "display_name": "Python 3.8.0 64-bit",
   "language": "python",
   "name": "python3"
  },
  "language_info": {
   "codemirror_mode": {
    "name": "ipython",
    "version": 3
   },
   "file_extension": ".py",
   "mimetype": "text/x-python",
   "name": "python",
   "nbconvert_exporter": "python",
   "pygments_lexer": "ipython3",
   "version": "3.11.5"
  },
  "orig_nbformat": 4
 },
 "nbformat": 4,
 "nbformat_minor": 2
}
